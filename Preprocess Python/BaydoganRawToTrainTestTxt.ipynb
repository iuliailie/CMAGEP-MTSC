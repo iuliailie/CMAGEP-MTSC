{
 "cells": [
  {
   "cell_type": "code",
   "execution_count": null,
   "metadata": {},
   "outputs": [],
   "source": [
    "from scipy.io import loadmat\n",
    "import pandas as pd\n",
    "import numpy as np\n",
    "np.set_printoptions(suppress=True)\n",
    "\n",
    "def makeDfFromBaydoganMatFile(file,setType):\n",
    "    data= loadmat(file)\n",
    "    data.keys()\n",
    "    mts=data['mts']\n",
    "    mts.dtype\n",
    "    TS=data['mts'][0,0][setType]\n",
    "    Labels=data['mts'][0,0][setType+'labels']\n",
    "    Df=pd.DataFrame([])\n",
    "    for i in range(0, TS.size):\n",
    "        try:\n",
    "            DfInter=pd.concat([ pd.DataFrame(TS[0,i].T.astype(np.double, copy=False)), \n",
    "                            pd.DataFrame(np.ones(len(TS[0,i].T))*Labels[i].T.astype(np.double, copy=False)),\n",
    "                            pd.DataFrame(np.ones(len(TS[0,i].T))*i)],\n",
    "                            axis=1)\n",
    "        except:\n",
    "            DfInter=pd.concat([ pd.DataFrame(TS[0,i].T.astype(np.double, copy=False)), \n",
    "                            pd.DataFrame(np.ones(len(TS[0,i].T))*Labels[0][i].T.astype(np.double, copy=False)),\n",
    "                            pd.DataFrame(np.ones(len(TS[0,i].T))*i)],\n",
    "                            axis=1)\n",
    "        Df=Df.append(DfInter,ignore_index=True)\n",
    "\n",
    "    \n",
    "    newCols=[]\n",
    "    for i in range(0,Df.columns.size-2):\n",
    "        newCols.append('s'+str(i+1))\n",
    "    newCols.append('label')\n",
    "    newCols.append('TS_index')\n",
    "    Df.columns=newCols\n",
    "    return Df\n",
    "import os\n",
    "\n",
    "allDirs=[x[0] for x in os.walk('/Users/iuliailie/UCD/mtsdata (2)/')]\n",
    "len(allDirs)\n",
    "dirName=''\n",
    "for i in range(1,len(allDirs)):\n",
    "    \n",
    "        dirName=allDirs[i].split('/')[-1]\n",
    "        file='/Users/iuliailie/UCD/mtsdata (2)/'+dirName+'/'+dirName+'.mat'\n",
    "        setType='train'\n",
    "        usefulDf=makeDfFromBaydoganMatFile(file,setType)\n",
    "        usefulDf.to_csv(path_or_buf='/Users/iuliailie/UCD/mtsdata (2)/'+dirName+'/'+dirName+'train.txt',sep='\\t',header=0,index=0)\n",
    "        setType='test'\n",
    "        usefulDf=makeDfFromBaydoganMatFile(file,setType)\n",
    "        usefulDf.to_csv(path_or_buf='/Users/iuliailie/UCD/mtsdata (2)/'+dirName+'/'+dirName+'test.txt',sep='\\t',header=0,index=0)   \n",
    "        \n",
    "        "
   ]
  }
 ],
 "metadata": {
  "kernelspec": {
   "display_name": "Python 3",
   "language": "python",
   "name": "python3"
  },
  "language_info": {
   "codemirror_mode": {
    "name": "ipython",
    "version": 3
   },
   "file_extension": ".py",
   "mimetype": "text/x-python",
   "name": "python",
   "nbconvert_exporter": "python",
   "pygments_lexer": "ipython3",
   "version": "3.6.8"
  }
 },
 "nbformat": 4,
 "nbformat_minor": 2
}
